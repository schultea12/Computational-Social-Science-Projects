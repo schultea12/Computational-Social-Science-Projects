{
 "cells": [
  {
   "cell_type": "markdown",
   "metadata": {},
   "source": [
    "## [Computational Social Science] Project 5: Natural Language Processing"
   ]
  },
  {
   "cell_type": "markdown",
   "metadata": {},
   "source": [
    "In this project, you will use natural language processing techniques to explore a dataset containing tweets from members of the 116th United States Congress that met from January 3, 2019 to January 2, 2021. The dataset has also been cleaned to contain information about each legislator. Concretely, you will do the following:\n",
    "\n",
    "* Preprocess the text of legislators' tweets\n",
    "* Conduct Exploratory Data Analysis of the text\n",
    "* Use sentiment analysis to explore differences between legislators' tweets\n",
    "* Featurize text with manual feature engineering, frequency-based, and vector-based techniques\n",
    "* Predict legislators' political parties and whether they are a Senator or Representative\n",
    "\n",
    "You will explore two questions that relate to two central findings in political science and examine how they relate to the text of legislators' tweets. First, political scientists have argued that U.S. politics is currently highly polarized relative to other periods in American history, but also that the polarization is asymmetric. Historically, there were several conservative Democrats (i.e. \"blue dog Democrats\") and liberal Republicans (i.e. \"Rockefeller Republicans\"), as measured by popular measurement tools like [DW-NOMINATE](https://en.wikipedia.org/wiki/NOMINATE_(scaling_method)#:~:text=DW\\%2DNOMINATE\\%20scores\\%20have\\%20been,in\\%20the\\%20liberal\\%2Dconservative\\%20scale.). However, in the last few years, there are few if any examples of any Democrat in Congress being further to the right than any Republican and vice versa. At the same time, scholars have argued that this polarization is mostly a function of the Republican party moving further right than the Democratic party has moved left. **Does this sort of asymmetric polarization show up in how politicians communicate to their constituents through tweets?**\n",
    "\n",
    "Second, the U.S. Congress is a bicameral legislature, and there has long been debate about partisanship in the Senate versus the House. The House of Representatives is apportioned by population and all members serve two year terms. In the Senate, each state receives two Senators and each Senator serves a term of six years. For a variety of reasons (smaller chamber size, more insulation from the voters, rules and norms like the filibuster, etc.), the Senate has been argued to be the \"cooling saucer\" of Congress in that it is more bipartisan and moderate than the House. **Does the theory that the Senate is more moderate have support in Senators' tweets?**\n",
    "\n",
    "**Note**: See the project handout for more details on caveats and the data dictionary."
   ]
  },
  {
   "cell_type": "code",
   "execution_count": 1,
   "metadata": {},
   "outputs": [
    {
     "name": "stdout",
     "output_type": "stream",
     "text": [
      "Requirement already satisfied: spacy in /Users/alex/anaconda3/lib/python3.11/site-packages (3.6.1)\n",
      "Requirement already satisfied: spacy-legacy<3.1.0,>=3.0.11 in /Users/alex/anaconda3/lib/python3.11/site-packages (from spacy) (3.0.12)\n",
      "Requirement already satisfied: spacy-loggers<2.0.0,>=1.0.0 in /Users/alex/anaconda3/lib/python3.11/site-packages (from spacy) (1.0.5)\n",
      "Requirement already satisfied: murmurhash<1.1.0,>=0.28.0 in /Users/alex/anaconda3/lib/python3.11/site-packages (from spacy) (1.0.10)\n",
      "Requirement already satisfied: cymem<2.1.0,>=2.0.2 in /Users/alex/anaconda3/lib/python3.11/site-packages (from spacy) (2.0.8)\n",
      "Requirement already satisfied: preshed<3.1.0,>=3.0.2 in /Users/alex/anaconda3/lib/python3.11/site-packages (from spacy) (3.0.9)\n",
      "Requirement already satisfied: thinc<8.2.0,>=8.1.8 in /Users/alex/anaconda3/lib/python3.11/site-packages (from spacy) (8.1.12)\n",
      "Requirement already satisfied: wasabi<1.2.0,>=0.9.1 in /Users/alex/anaconda3/lib/python3.11/site-packages (from spacy) (1.1.2)\n",
      "Requirement already satisfied: srsly<3.0.0,>=2.4.3 in /Users/alex/anaconda3/lib/python3.11/site-packages (from spacy) (2.4.8)\n",
      "Requirement already satisfied: catalogue<2.1.0,>=2.0.6 in /Users/alex/anaconda3/lib/python3.11/site-packages (from spacy) (2.0.10)\n",
      "Requirement already satisfied: typer<0.10.0,>=0.3.0 in /Users/alex/anaconda3/lib/python3.11/site-packages (from spacy) (0.9.0)\n",
      "Requirement already satisfied: pathy>=0.10.0 in /Users/alex/anaconda3/lib/python3.11/site-packages (from spacy) (0.10.2)\n",
      "Requirement already satisfied: smart-open<7.0.0,>=5.2.1 in /Users/alex/anaconda3/lib/python3.11/site-packages (from spacy) (5.2.1)\n",
      "Requirement already satisfied: tqdm<5.0.0,>=4.38.0 in /Users/alex/anaconda3/lib/python3.11/site-packages (from spacy) (4.65.0)\n",
      "Requirement already satisfied: numpy>=1.15.0 in /Users/alex/anaconda3/lib/python3.11/site-packages (from spacy) (1.24.3)\n",
      "Requirement already satisfied: requests<3.0.0,>=2.13.0 in /Users/alex/anaconda3/lib/python3.11/site-packages (from spacy) (2.31.0)\n",
      "Requirement already satisfied: pydantic!=1.8,!=1.8.1,<3.0.0,>=1.7.4 in /Users/alex/anaconda3/lib/python3.11/site-packages (from spacy) (2.4.0)\n",
      "Requirement already satisfied: jinja2 in /Users/alex/anaconda3/lib/python3.11/site-packages (from spacy) (3.1.2)\n",
      "Requirement already satisfied: setuptools in /Users/alex/anaconda3/lib/python3.11/site-packages (from spacy) (68.0.0)\n",
      "Requirement already satisfied: packaging>=20.0 in /Users/alex/anaconda3/lib/python3.11/site-packages (from spacy) (23.0)\n",
      "Requirement already satisfied: langcodes<4.0.0,>=3.2.0 in /Users/alex/anaconda3/lib/python3.11/site-packages (from spacy) (3.3.0)\n",
      "Requirement already satisfied: annotated-types>=0.4.0 in /Users/alex/anaconda3/lib/python3.11/site-packages (from pydantic!=1.8,!=1.8.1,<3.0.0,>=1.7.4->spacy) (0.5.0)\n",
      "Requirement already satisfied: pydantic-core==2.10.0 in /Users/alex/anaconda3/lib/python3.11/site-packages (from pydantic!=1.8,!=1.8.1,<3.0.0,>=1.7.4->spacy) (2.10.0)\n",
      "Requirement already satisfied: typing-extensions>=4.6.1 in /Users/alex/anaconda3/lib/python3.11/site-packages (from pydantic!=1.8,!=1.8.1,<3.0.0,>=1.7.4->spacy) (4.7.1)\n",
      "Requirement already satisfied: charset-normalizer<4,>=2 in /Users/alex/anaconda3/lib/python3.11/site-packages (from requests<3.0.0,>=2.13.0->spacy) (2.0.4)\n",
      "Requirement already satisfied: idna<4,>=2.5 in /Users/alex/anaconda3/lib/python3.11/site-packages (from requests<3.0.0,>=2.13.0->spacy) (3.4)\n",
      "Requirement already satisfied: urllib3<3,>=1.21.1 in /Users/alex/anaconda3/lib/python3.11/site-packages (from requests<3.0.0,>=2.13.0->spacy) (1.26.16)\n",
      "Requirement already satisfied: certifi>=2017.4.17 in /Users/alex/anaconda3/lib/python3.11/site-packages (from requests<3.0.0,>=2.13.0->spacy) (2023.7.22)\n",
      "Requirement already satisfied: blis<0.8.0,>=0.7.8 in /Users/alex/anaconda3/lib/python3.11/site-packages (from thinc<8.2.0,>=8.1.8->spacy) (0.7.11)\n",
      "Requirement already satisfied: confection<1.0.0,>=0.0.1 in /Users/alex/anaconda3/lib/python3.11/site-packages (from thinc<8.2.0,>=8.1.8->spacy) (0.1.3)\n",
      "Requirement already satisfied: click<9.0.0,>=7.1.1 in /Users/alex/anaconda3/lib/python3.11/site-packages (from typer<0.10.0,>=0.3.0->spacy) (8.0.4)\n",
      "Requirement already satisfied: MarkupSafe>=2.0 in /Users/alex/anaconda3/lib/python3.11/site-packages (from jinja2->spacy) (2.1.1)\n",
      "Collecting en-core-web-sm==3.6.0\n",
      "  Downloading https://github.com/explosion/spacy-models/releases/download/en_core_web_sm-3.6.0/en_core_web_sm-3.6.0-py3-none-any.whl (12.8 MB)\n",
      "\u001b[2K     \u001b[90m━━━━━━━━━━━━━━━━━━━━━━━━━━━━━━━━━━━━━━━━\u001b[0m \u001b[32m12.8/12.8 MB\u001b[0m \u001b[31m9.5 MB/s\u001b[0m eta \u001b[36m0:00:00\u001b[0m:00:01\u001b[0m00:01\u001b[0m\n",
      "\u001b[?25hRequirement already satisfied: spacy<3.7.0,>=3.6.0 in /Users/alex/anaconda3/lib/python3.11/site-packages (from en-core-web-sm==3.6.0) (3.6.1)\n",
      "Requirement already satisfied: spacy-legacy<3.1.0,>=3.0.11 in /Users/alex/anaconda3/lib/python3.11/site-packages (from spacy<3.7.0,>=3.6.0->en-core-web-sm==3.6.0) (3.0.12)\n",
      "Requirement already satisfied: spacy-loggers<2.0.0,>=1.0.0 in /Users/alex/anaconda3/lib/python3.11/site-packages (from spacy<3.7.0,>=3.6.0->en-core-web-sm==3.6.0) (1.0.5)\n",
      "Requirement already satisfied: murmurhash<1.1.0,>=0.28.0 in /Users/alex/anaconda3/lib/python3.11/site-packages (from spacy<3.7.0,>=3.6.0->en-core-web-sm==3.6.0) (1.0.10)\n",
      "Requirement already satisfied: cymem<2.1.0,>=2.0.2 in /Users/alex/anaconda3/lib/python3.11/site-packages (from spacy<3.7.0,>=3.6.0->en-core-web-sm==3.6.0) (2.0.8)\n",
      "Requirement already satisfied: preshed<3.1.0,>=3.0.2 in /Users/alex/anaconda3/lib/python3.11/site-packages (from spacy<3.7.0,>=3.6.0->en-core-web-sm==3.6.0) (3.0.9)\n",
      "Requirement already satisfied: thinc<8.2.0,>=8.1.8 in /Users/alex/anaconda3/lib/python3.11/site-packages (from spacy<3.7.0,>=3.6.0->en-core-web-sm==3.6.0) (8.1.12)\n",
      "Requirement already satisfied: wasabi<1.2.0,>=0.9.1 in /Users/alex/anaconda3/lib/python3.11/site-packages (from spacy<3.7.0,>=3.6.0->en-core-web-sm==3.6.0) (1.1.2)\n",
      "Requirement already satisfied: srsly<3.0.0,>=2.4.3 in /Users/alex/anaconda3/lib/python3.11/site-packages (from spacy<3.7.0,>=3.6.0->en-core-web-sm==3.6.0) (2.4.8)\n",
      "Requirement already satisfied: catalogue<2.1.0,>=2.0.6 in /Users/alex/anaconda3/lib/python3.11/site-packages (from spacy<3.7.0,>=3.6.0->en-core-web-sm==3.6.0) (2.0.10)\n",
      "Requirement already satisfied: typer<0.10.0,>=0.3.0 in /Users/alex/anaconda3/lib/python3.11/site-packages (from spacy<3.7.0,>=3.6.0->en-core-web-sm==3.6.0) (0.9.0)\n",
      "Requirement already satisfied: pathy>=0.10.0 in /Users/alex/anaconda3/lib/python3.11/site-packages (from spacy<3.7.0,>=3.6.0->en-core-web-sm==3.6.0) (0.10.2)\n",
      "Requirement already satisfied: smart-open<7.0.0,>=5.2.1 in /Users/alex/anaconda3/lib/python3.11/site-packages (from spacy<3.7.0,>=3.6.0->en-core-web-sm==3.6.0) (5.2.1)\n",
      "Requirement already satisfied: tqdm<5.0.0,>=4.38.0 in /Users/alex/anaconda3/lib/python3.11/site-packages (from spacy<3.7.0,>=3.6.0->en-core-web-sm==3.6.0) (4.65.0)\n",
      "Requirement already satisfied: numpy>=1.15.0 in /Users/alex/anaconda3/lib/python3.11/site-packages (from spacy<3.7.0,>=3.6.0->en-core-web-sm==3.6.0) (1.24.3)\n",
      "Requirement already satisfied: requests<3.0.0,>=2.13.0 in /Users/alex/anaconda3/lib/python3.11/site-packages (from spacy<3.7.0,>=3.6.0->en-core-web-sm==3.6.0) (2.31.0)\n",
      "Requirement already satisfied: pydantic!=1.8,!=1.8.1,<3.0.0,>=1.7.4 in /Users/alex/anaconda3/lib/python3.11/site-packages (from spacy<3.7.0,>=3.6.0->en-core-web-sm==3.6.0) (2.4.0)\n",
      "Requirement already satisfied: jinja2 in /Users/alex/anaconda3/lib/python3.11/site-packages (from spacy<3.7.0,>=3.6.0->en-core-web-sm==3.6.0) (3.1.2)\n",
      "Requirement already satisfied: setuptools in /Users/alex/anaconda3/lib/python3.11/site-packages (from spacy<3.7.0,>=3.6.0->en-core-web-sm==3.6.0) (68.0.0)\n",
      "Requirement already satisfied: packaging>=20.0 in /Users/alex/anaconda3/lib/python3.11/site-packages (from spacy<3.7.0,>=3.6.0->en-core-web-sm==3.6.0) (23.0)\n",
      "Requirement already satisfied: langcodes<4.0.0,>=3.2.0 in /Users/alex/anaconda3/lib/python3.11/site-packages (from spacy<3.7.0,>=3.6.0->en-core-web-sm==3.6.0) (3.3.0)\n",
      "Requirement already satisfied: annotated-types>=0.4.0 in /Users/alex/anaconda3/lib/python3.11/site-packages (from pydantic!=1.8,!=1.8.1,<3.0.0,>=1.7.4->spacy<3.7.0,>=3.6.0->en-core-web-sm==3.6.0) (0.5.0)\n",
      "Requirement already satisfied: pydantic-core==2.10.0 in /Users/alex/anaconda3/lib/python3.11/site-packages (from pydantic!=1.8,!=1.8.1,<3.0.0,>=1.7.4->spacy<3.7.0,>=3.6.0->en-core-web-sm==3.6.0) (2.10.0)\n",
      "Requirement already satisfied: typing-extensions>=4.6.1 in /Users/alex/anaconda3/lib/python3.11/site-packages (from pydantic!=1.8,!=1.8.1,<3.0.0,>=1.7.4->spacy<3.7.0,>=3.6.0->en-core-web-sm==3.6.0) (4.7.1)\n"
     ]
    },
    {
     "name": "stdout",
     "output_type": "stream",
     "text": [
      "Requirement already satisfied: charset-normalizer<4,>=2 in /Users/alex/anaconda3/lib/python3.11/site-packages (from requests<3.0.0,>=2.13.0->spacy<3.7.0,>=3.6.0->en-core-web-sm==3.6.0) (2.0.4)\n",
      "Requirement already satisfied: idna<4,>=2.5 in /Users/alex/anaconda3/lib/python3.11/site-packages (from requests<3.0.0,>=2.13.0->spacy<3.7.0,>=3.6.0->en-core-web-sm==3.6.0) (3.4)\n",
      "Requirement already satisfied: urllib3<3,>=1.21.1 in /Users/alex/anaconda3/lib/python3.11/site-packages (from requests<3.0.0,>=2.13.0->spacy<3.7.0,>=3.6.0->en-core-web-sm==3.6.0) (1.26.16)\n",
      "Requirement already satisfied: certifi>=2017.4.17 in /Users/alex/anaconda3/lib/python3.11/site-packages (from requests<3.0.0,>=2.13.0->spacy<3.7.0,>=3.6.0->en-core-web-sm==3.6.0) (2023.7.22)\n",
      "Requirement already satisfied: blis<0.8.0,>=0.7.8 in /Users/alex/anaconda3/lib/python3.11/site-packages (from thinc<8.2.0,>=8.1.8->spacy<3.7.0,>=3.6.0->en-core-web-sm==3.6.0) (0.7.11)\n",
      "Requirement already satisfied: confection<1.0.0,>=0.0.1 in /Users/alex/anaconda3/lib/python3.11/site-packages (from thinc<8.2.0,>=8.1.8->spacy<3.7.0,>=3.6.0->en-core-web-sm==3.6.0) (0.1.3)\n",
      "Requirement already satisfied: click<9.0.0,>=7.1.1 in /Users/alex/anaconda3/lib/python3.11/site-packages (from typer<0.10.0,>=0.3.0->spacy<3.7.0,>=3.6.0->en-core-web-sm==3.6.0) (8.0.4)\n",
      "Requirement already satisfied: MarkupSafe>=2.0 in /Users/alex/anaconda3/lib/python3.11/site-packages (from jinja2->spacy<3.7.0,>=3.6.0->en-core-web-sm==3.6.0) (2.1.1)\n",
      "\u001b[38;5;2m✔ Download and installation successful\u001b[0m\n",
      "You can now load the package via spacy.load('en_core_web_sm')\n"
     ]
    }
   ],
   "source": [
    "!pip install spacy\n",
    "!python -m spacy download en_core_web_sm"
   ]
  },
  {
   "cell_type": "code",
   "execution_count": 4,
   "metadata": {},
   "outputs": [
    {
     "name": "stdout",
     "output_type": "stream",
     "text": [
      "Collecting textblob\n",
      "  Downloading textblob-0.17.1-py2.py3-none-any.whl (636 kB)\n",
      "\u001b[2K     \u001b[90m━━━━━━━━━━━━━━━━━━━━━━━━━━━━━━━━━━━━━━━\u001b[0m \u001b[32m636.8/636.8 kB\u001b[0m \u001b[31m5.4 MB/s\u001b[0m eta \u001b[36m0:00:00\u001b[0m00:01\u001b[0m00:01\u001b[0m\n",
      "\u001b[?25hRequirement already satisfied: nltk>=3.1 in /Users/alex/anaconda3/lib/python3.11/site-packages (from textblob) (3.8.1)\n",
      "Requirement already satisfied: click in /Users/alex/anaconda3/lib/python3.11/site-packages (from nltk>=3.1->textblob) (8.0.4)\n",
      "Requirement already satisfied: joblib in /Users/alex/anaconda3/lib/python3.11/site-packages (from nltk>=3.1->textblob) (1.2.0)\n",
      "Requirement already satisfied: regex>=2021.8.3 in /Users/alex/anaconda3/lib/python3.11/site-packages (from nltk>=3.1->textblob) (2022.7.9)\n",
      "Requirement already satisfied: tqdm in /Users/alex/anaconda3/lib/python3.11/site-packages (from nltk>=3.1->textblob) (4.65.0)\n",
      "Installing collected packages: textblob\n",
      "Successfully installed textblob-0.17.1\n"
     ]
    }
   ],
   "source": [
    "!pip install textblob"
   ]
  },
  {
   "cell_type": "code",
   "execution_count": 2,
   "metadata": {},
   "outputs": [],
   "source": [
    "import spacy "
   ]
  },
  {
   "cell_type": "code",
   "execution_count": 5,
   "metadata": {},
   "outputs": [],
   "source": [
    "# pandas and numpy\n",
    "import pandas as pd\n",
    "import numpy as numpy\n",
    "\n",
    "# punctuation, stop words and English language model\n",
    "from string import punctuation\n",
    "from spacy.lang.en.stop_words import STOP_WORDS\n",
    "import en_core_web_sm\n",
    "nlp = en_core_web_sm.load()\n",
    "\n",
    "# textblob\n",
    "from textblob import TextBlob\n",
    "\n",
    "# countvectorizer, tfidfvectorizer\n",
    "from sklearn.feature_extraction.text import CountVectorizer, TfidfVectorizer\n",
    "\n",
    "# gensim\n",
    "import gensim\n",
    "from gensim import models\n",
    "\n",
    "# plotting\n",
    "import matplotlib.pyplot as plt\n",
    "import seaborn as sns\n",
    "%matplotlib inline"
   ]
  },
  {
   "cell_type": "code",
   "execution_count": 7,
   "metadata": {},
   "outputs": [
    {
     "data": {
      "text/html": [
       "<div>\n",
       "<style scoped>\n",
       "    .dataframe tbody tr th:only-of-type {\n",
       "        vertical-align: middle;\n",
       "    }\n",
       "\n",
       "    .dataframe tbody tr th {\n",
       "        vertical-align: top;\n",
       "    }\n",
       "\n",
       "    .dataframe thead th {\n",
       "        text-align: right;\n",
       "    }\n",
       "</style>\n",
       "<table border=\"1\" class=\"dataframe\">\n",
       "  <thead>\n",
       "    <tr style=\"text-align: right;\">\n",
       "      <th></th>\n",
       "      <th>tweet_id</th>\n",
       "      <th>screen_name</th>\n",
       "      <th>datetime</th>\n",
       "      <th>text</th>\n",
       "      <th>name_wikipedia</th>\n",
       "      <th>position</th>\n",
       "      <th>joined_congress_date</th>\n",
       "      <th>birthday</th>\n",
       "      <th>gender</th>\n",
       "      <th>state</th>\n",
       "      <th>district_number</th>\n",
       "      <th>party</th>\n",
       "      <th>trump_2016_state_share</th>\n",
       "      <th>clinton_2016_state_share</th>\n",
       "      <th>obama_2012_state_share</th>\n",
       "      <th>romney_2012_state_share</th>\n",
       "    </tr>\n",
       "  </thead>\n",
       "  <tbody>\n",
       "    <tr>\n",
       "      <th>908961</th>\n",
       "      <td>1.250810e+18</td>\n",
       "      <td>RepJayapal</td>\n",
       "      <td>2020-04-16T11:31:24-04:00</td>\n",
       "      <td>RT @RepKClark 22 million Americans filed for u...</td>\n",
       "      <td>Pramila Jayapal</td>\n",
       "      <td>Rep</td>\n",
       "      <td>3-Jan-17</td>\n",
       "      <td>9/21/1965</td>\n",
       "      <td>F</td>\n",
       "      <td>WA</td>\n",
       "      <td>7</td>\n",
       "      <td>Democrat</td>\n",
       "      <td>1,221,747</td>\n",
       "      <td>1,742,718</td>\n",
       "      <td>1,755,396</td>\n",
       "      <td>1,290,670</td>\n",
       "    </tr>\n",
       "    <tr>\n",
       "      <th>175615</th>\n",
       "      <td>1.098040e+18</td>\n",
       "      <td>RepJohnLarson</td>\n",
       "      <td>2019-02-19T20:51:22-05:00</td>\n",
       "      <td>Thanks to all who came out to tonight’s forum ...</td>\n",
       "      <td>John B. Larson</td>\n",
       "      <td>Rep</td>\n",
       "      <td>3-Jan-99</td>\n",
       "      <td>7/22/1948</td>\n",
       "      <td>M</td>\n",
       "      <td>CT</td>\n",
       "      <td>1</td>\n",
       "      <td>Democrat</td>\n",
       "      <td>673,215</td>\n",
       "      <td>897,572</td>\n",
       "      <td>905,083</td>\n",
       "      <td>634,892</td>\n",
       "    </tr>\n",
       "    <tr>\n",
       "      <th>64613</th>\n",
       "      <td>1.105510e+18</td>\n",
       "      <td>SpeakerPelosi</td>\n",
       "      <td>2019-03-12T12:55:01-04:00</td>\n",
       "      <td>RT @RepFilemonVela #Dreamers &amp;amp; TPS recipie...</td>\n",
       "      <td>Nancy Pelosi</td>\n",
       "      <td>Rep</td>\n",
       "      <td>2-Jun-87</td>\n",
       "      <td>3/26/1940</td>\n",
       "      <td>F</td>\n",
       "      <td>CA</td>\n",
       "      <td>12</td>\n",
       "      <td>Democrat</td>\n",
       "      <td>4,483,814</td>\n",
       "      <td>8,753,792</td>\n",
       "      <td>7,854,285</td>\n",
       "      <td>4,839,958</td>\n",
       "    </tr>\n",
       "    <tr>\n",
       "      <th>783091</th>\n",
       "      <td>1.174370e+18</td>\n",
       "      <td>JoaquinCastrotx</td>\n",
       "      <td>2019-09-18T13:24:49-04:00</td>\n",
       "      <td>RT @HispanicCaucus @JoaquinCastrotx @TheBlackC...</td>\n",
       "      <td>Joaquín Castro</td>\n",
       "      <td>Rep</td>\n",
       "      <td>3-Jan-13</td>\n",
       "      <td>9/16/1974</td>\n",
       "      <td>M</td>\n",
       "      <td>TX</td>\n",
       "      <td>20</td>\n",
       "      <td>Democrat</td>\n",
       "      <td>4,685,047</td>\n",
       "      <td>3,877,868</td>\n",
       "      <td>3,308,124</td>\n",
       "      <td>4,569,843</td>\n",
       "    </tr>\n",
       "    <tr>\n",
       "      <th>553399</th>\n",
       "      <td>1.099380e+18</td>\n",
       "      <td>RepJoeMorelle</td>\n",
       "      <td>2019-02-23T13:29:08-05:00</td>\n",
       "      <td>Thank you to @NYGovCuomo for being here today ...</td>\n",
       "      <td>Joseph D. Morelle</td>\n",
       "      <td>Rep</td>\n",
       "      <td>13-Nov-18</td>\n",
       "      <td>4/29/1957</td>\n",
       "      <td>M</td>\n",
       "      <td>NY</td>\n",
       "      <td>25</td>\n",
       "      <td>Democrat</td>\n",
       "      <td>2,819,533</td>\n",
       "      <td>4,556,118</td>\n",
       "      <td>4,485,741</td>\n",
       "      <td>2,490,431</td>\n",
       "    </tr>\n",
       "  </tbody>\n",
       "</table>\n",
       "</div>"
      ],
      "text/plain": [
       "            tweet_id      screen_name                   datetime  \\\n",
       "908961  1.250810e+18       RepJayapal  2020-04-16T11:31:24-04:00   \n",
       "175615  1.098040e+18    RepJohnLarson  2019-02-19T20:51:22-05:00   \n",
       "64613   1.105510e+18    SpeakerPelosi  2019-03-12T12:55:01-04:00   \n",
       "783091  1.174370e+18  JoaquinCastrotx  2019-09-18T13:24:49-04:00   \n",
       "553399  1.099380e+18    RepJoeMorelle  2019-02-23T13:29:08-05:00   \n",
       "\n",
       "                                                     text     name_wikipedia  \\\n",
       "908961  RT @RepKClark 22 million Americans filed for u...    Pramila Jayapal   \n",
       "175615  Thanks to all who came out to tonight’s forum ...     John B. Larson   \n",
       "64613   RT @RepFilemonVela #Dreamers &amp; TPS recipie...       Nancy Pelosi   \n",
       "783091  RT @HispanicCaucus @JoaquinCastrotx @TheBlackC...     Joaquín Castro   \n",
       "553399  Thank you to @NYGovCuomo for being here today ...  Joseph D. Morelle   \n",
       "\n",
       "       position joined_congress_date   birthday gender state district_number  \\\n",
       "908961      Rep             3-Jan-17  9/21/1965      F    WA               7   \n",
       "175615      Rep             3-Jan-99  7/22/1948      M    CT               1   \n",
       "64613       Rep             2-Jun-87  3/26/1940      F    CA              12   \n",
       "783091      Rep             3-Jan-13  9/16/1974      M    TX              20   \n",
       "553399      Rep            13-Nov-18  4/29/1957      M    NY              25   \n",
       "\n",
       "           party trump_2016_state_share clinton_2016_state_share  \\\n",
       "908961  Democrat              1,221,747                1,742,718   \n",
       "175615  Democrat                673,215                  897,572   \n",
       "64613   Democrat              4,483,814                8,753,792   \n",
       "783091  Democrat              4,685,047                3,877,868   \n",
       "553399  Democrat              2,819,533                4,556,118   \n",
       "\n",
       "       obama_2012_state_share romney_2012_state_share  \n",
       "908961              1,755,396               1,290,670  \n",
       "175615                905,083                 634,892  \n",
       "64613               7,854,285               4,839,958  \n",
       "783091              3,308,124               4,569,843  \n",
       "553399              4,485,741               2,490,431  "
      ]
     },
     "execution_count": 7,
     "metadata": {},
     "output_type": "execute_result"
    }
   ],
   "source": [
    "# load data \n",
    "# ----------\n",
    "congress_tweets = pd.read_csv(\"data/116th Congressional Tweets and Demographics.csv\")\n",
    "# fill in this line of code with a sufficient number of tweets, depending on your computational resources\n",
    "congress_tweets = congress_tweets.sample(n=1000, random_state=42)\n",
    "\n",
    "congress_tweets.head()"
   ]
  },
  {
   "cell_type": "code",
   "execution_count": 9,
   "metadata": {},
   "outputs": [
    {
     "name": "stdout",
     "output_type": "stream",
     "text": [
      "908961                                              RT @RepKClark 22 million Americans filed for unemployment in the last 4 weeks. We need to find innovative solutions and to act fast. That's why I support the #PaycheckGuaranteeAct, which will cover 100% of wages for workers earning up to $100k and will ensure workers keep their #healthcare. https://twitter.com/politico/status/1250764214433611784 QT @politico BREAKING: 5.2 million Americans applied for unemployment last week. In four weeks alone, that’s more than 22 million people seeking jobless benefits. https://www.politico.com/news/2020/04/16/coronavirus-unemployment-claims-numbers-190026\n",
      "175615                                                                                                                                                                                                                                                                                                                                                                                                                                                        Thanks to all who came out to tonight’s forum on the #GOPTaxLaw http://pbs.twimg.com/media/Dz0DJyKWsAAT3FZ.jpg http://pbs.twimg.com/media/Dz0DJyKXgAAyc6N.jpg http://pbs.twimg.com/media/Dz0DJyLWkAUzD4L.jpg\n",
      "64613                                                                                                                                                                                                                                                                                                                                                                                          RT @RepFilemonVela #Dreamers &amp; TPS recipients are essential members of communities across the country, working &amp; living alongside us all. We won’t let them be torn away from our communities. #ProtectTheDream #HR6 http://pbs.twimg.com/media/D1d_bWEWoAEOLrz.png\n",
      "783091                                                                                                                                                                                                                                                                           RT @HispanicCaucus @JoaquinCastrotx @TheBlackCaucus @CAPAC @ExpressScripts @OptumRx @UnitedHealthGrp These CEOS represent 2 of the largest Pharmacy Benefit Managers (PBMs) in the US and are key players in the rising cost of insulin. We are hoping for a productive discussion as we all work to ensure that Americans have the #insulin they need at affordable prices. #Insulin4All\n",
      "553399                                                                                                                                                                                                                                                                                                                                       Thank you to @NYGovCuomo for being here today in the face of yet another extreme weather system. The close collaboration we see among all levels of government is exactly what need in times like need to ensure our residents are safe and prepared for tomorrow’s windstorm. http://pbs.twimg.com/media/D0HETHJWkAEM1IZ.jpg\n",
      "32238                                                                                                                                                                                                                                                                                                                          .@RepRubenGallego and I are urging companies who supply life-saving protective equipment to forgo profit on goods sold to first responders, doctors and nurses on the front lines battling the COVID-19 pandemic.\\nhttps://stanton.house.gov/media/press-releases/pandemic-no-time-profit-ppe-sold-first-responders-stanton-and-gallego-say\n",
      "20570                                                                                                                                                                                                                                                                                                                              Another month, another jobs report, showing that @POTUS @realDonaldTrump's policies are working for the U.S. economy.\\n\\n✔️ Historic unemployment rate of 3.5%\\n✔️ 136,000 jobs added\\n✔️ Wages up 2.9% from '18\\n\\nTime for Democrats to help sustain this momentum: https://www.cnbc.com/2019/10/04/jobs-report---september-2019.html\n",
      "704089                                                                                                                                                                                                                                                                RT @eyokley NEW: Police reform debate paints a picture of wide divides, w/ officers on one side and those demanding change on the other. But our new poll of officers tells story of a force mostly on board w/ efforts to reign it in.\\n\\nFrom @cameron_easley and I: https://morningconsult.com/2020/07/23/police-reform-bias-demographics-polling/ http://pbs.twimg.com/media/EdnneTFX0AcYkLz.png\n",
      "246925                                                                                                                                                                                                                                                                                                                                                                                                                                                                  This order cuts unemployment, abandons our local community, and leaves behind everyday people.\\n\\nWhy can’t my Republican colleagues just do their job and work with us to help our constituents??\n",
      "267417                                                                                                                                                                                                                                                                                                                                                                     RT @RepRussFulcher January reports show amazing progress: \\n \\n✅ 304,000 new jobs in January\\n✅ Worker wage gains break 3% for 1st time in 10 years \\n✅ U.S. stocks post best January in 30 years\\n✅ 79% of businesses plan to add jobs\\n✅10-year economic optimism is up \\n\\nLet’s keep it up!\n",
      "327495                                                                                                                                                                                                                                                                                                                                                                                                                                                                                                        First stop on @JoeBiden's apology tour... Beijing! 😤\\nhttps://www.washingtonexaminer.com/news/biden-national-security-team-has-hallmarks-of-obama-third-term\n",
      "445303                                                                                                                                                                                                                                                                          After my staff and I completed 21 housing listening sessions across the state, I released my findings in Duluth.\\n\\nKey takeaway: the housing shortage hurts the health and well-being of MN families and businesses and restrains jobs and economic growth. https://www.duluthnewstribune.com/news/government-and-politics/4955928-Smith-discusses-housing-health-care-concerns-in-Duluth\n",
      "639118                                                                                                                                                                                                                                                                                                                               I was pleased to serve as an NDAA Conferee from the Budget Committee. I signed the report on Monday and I’m glad that it passed the House floor today. \\n\\nThis is a win for Americans because it will:\\n✔️ give troops a raise \\n✔️ repeal the Widow’s Tax \\n✔️ establish Space Force http://pbs.twimg.com/media/ELik5bXXUAITDlO.jpg\n",
      "780124                                                                                                                                                                                                                                     RT @Jkylebass chinese army has invaded HK. The PLA is working hand-in-hand with the HK police to brutalize the protestors. They arrived August 1st and continue to multiply in numbers...US Travel advisory in HK. #pigs #china #HK http://pbs.twimg.com/ext_tw_video_thumb/1160619449508122625/pu/img/ixASL5WJAqycTFEs.jpg https://video.twimg.com/ext_tw_video/1160619449508122625/pu/vid/476x270/FmPU3fsrgHPmYHWP.mp4?tag=10\n",
      "48453                                                                                                                                                                                     Colin is a great person to lead @BeltwayBeef for America’s ranchers. And I thought the cheeseburger I had today was just for #NationalCheeseburgerDay - congratulations, Colin! https://twitter.com/beltwaybeef/status/1174356828672667656 QT @BeltwayBeef NCBA Announces Colin Woodall as new CEO. Ethan Lane to head NCBA's DC office as Vice President, Government Affairs. https://www.ncba.org/newsreleases.aspx?NewsID=7044 http://pbs.twimg.com/media/EEwnT2hXoAEZi5L.jpg\n",
      "57313     DREAMers are just as American as any us, and they deserve to be represented in Congress. This week, I joined @RepJuanVargas to send a message loud and clear: DREAMers are welcome here in the House. https://twitter.com/repjuanvargas/status/1086010488721412096 QT @RepJuanVargas DREAMers are America’s children &amp; like any other young person in this country, they deserve the opportunity to work in Congress. I’m proud to share that I have introduced H.R. 623, DREAMer House Employment Act to make that possible🇺🇸 https://vargas.house.gov/media-center/press-releases/reps-vargas-soto-espaillat-torres-garc-a-and-napolitano-introduce-hr-623\n",
      "536607                                                                                                                                                                                       My thoughts tonight are with his family and those he served with. https://twitter.com/govmurphy/status/1329933711287181312 QT @GovMurphy NEW: I have ordered that the U.S. and NJ flags be flown at half-staff at all state buildings and facilities on Monday, Nov 23, 2020 in honor of U.S. Air Force Senior Airman Richard Asey Samaroo of North Brunswick, who tragically passed away while on active duty in South Korea. http://pbs.twimg.com/media/EnTfqV7WEAIFjv3.jpg\n",
      "882360                                                                                                                                                                                                                                                                                                            RT @DavidCornDC .@RepSwalwell: Are you investigating Trump's commutation of Stone's sentence?\\n#Barr: \"No.\"\\nSwalwell: \"Why not?\"\\nBarr: \"Why should I?\"\\n\\nSwalwell explains that Stone said he refused to roll over on Trump &amp; Trump commuted his sentence. \\nBarr says there's nothing to look at. http://pbs.twimg.com/media/EeB8gFUXgAUCUlV.png\n",
      "638684                                                                                                                                                                                                                                                                                                             My first stop was the new police station (with donuts in tow of course). As a former prosecutor, I was especially impressed by the secure evidence lockers. http://pbs.twimg.com/media/EKoq78SWoAApDO6.jpg http://pbs.twimg.com/media/EKoq78RWkAUVBto.jpg http://pbs.twimg.com/media/EKoq78RXUAASKg2.jpg http://pbs.twimg.com/media/EKoq782WsAALYGn.jpg\n",
      "871843                                                                                                                                                                                                                                                                                                                                 RT @CaucusOnClimate To commemorate the 4th anniversary of the landmark #ParisAgreement, chairs @RepDonBeyer and @RepLowenthal led over 60 Members of Congress in a House Resolution to let the world know that #WeAreStillIn. \\n\\nHouse Democrats are leading on the #ClimateCrisis. http://pbs.twimg.com/media/ELrrv4TW4AAd3o2.jpg\n",
      "814178                                                                                                                                                                                                                                                                                                                                                               Airlines have been pushing for the TSA to start taking passengers’ temperatures to keep potentially sick people from boarding planes and to make passengers feel more comfortable taking trips again  https://www.wsj.com/articles/tsa-preparing-to-check-passenger-temperatures-11589579570 via @WSJ\n",
      "144617                                                                                                                                                                                                                                                                                                      I’m glad our resolution in support of workforce development passed the Senate last night. We must continue to invest in training and education to help American workers, especially as millions are left jobless due to the coronavirus pandemic. \\n\\nhttps://www.feinstein.senate.gov/public/index.cfm/press-releases?ID=C37E0956-1C68-446D-9C5C-DC688DD09AF6\n",
      "304887                                                                                                                                                                                                                                                                      55 years ago, President Lyndon B Johnson signed the #VotingRightsAct into law.\\n\\nToday, it is still essential that we protect everyone’s right to vote. That’s why I helped pass the John Lewis Voting Rights Act in the House. @SenateGOP needs to follow suit.\\n\\nhttps://www.usatoday.com/story/opinion/voices/2020/08/06/lyndon-johnson-john-lewis-voting-rights-civil-column/5579014002/\n",
      "73375                                                                                                                                                                                                                                                                                                         Congratulations to Gabriela Cruz-Diaz from the RFK School for the Visual Arts and Humanities for placing 2nd in this year’s #CongressionalArtCompetition!\\n \\nIn her piece ”Full Moon,” Gabriela celebrates #LA’s natural beauty in our everyday surroundings. http://pbs.twimg.com/media/D65Uz1gV4AAN6iN.jpg http://pbs.twimg.com/media/D65Uz2JU8AA3C8H.jpg\n",
      "471065                                                                                                                                                                                                                                                                                                                                                                                                   I’m sharing their feedback with the @WhiteHouse and my colleagues in both the House and Senate to ensure we get them the relief they need NOW.\\n\\nWe must keep working together to #StopTheSpread. I know we will recover stronger &amp; more united than before!\n",
      "68126                                                                                                                                                                                                                                                                                                                                                                                                                                                 I can’t believe that #KeepFamiliesTogether is a controversial opinion. Children belong with their parents, end of story. https://splinternews.com/trump-would-really-love-to-start-separating-families-at-1833884512\n",
      "281266                                                                                                                                                                                                                                                                                                                                                      As someone who knows the costs of war, I took to the Senate Floor to remind Trump he does NOT have the authority to declare war without Congress' approval ⬇️ http://pbs.twimg.com/media/D-LnryEX4AAaIik.jpg https://video.twimg.com/amplify_video/1144731484693159936/vid/320x352/rgW06p3zixUOjFKG.mp4?tag=13\n",
      "159954                                                                                                                                                                                                                                                                                                                                                                                                                             With this #FakeEmergency, the President is choosing to defy the Constitution as well as redirect valuable funds from military construction to fund an ineffective border wall. https://www.wsj.com/graphics/military-spending-projects/\n",
      "825024                                                                                                                                                                                                                                                                                                                                                                                                                                                                  Houston, wear a #FaceMask for the safety of our community.\\n\\nHouston, ponte una #Mascarilla por la seguridad y el bien estar de nuestra comunidad. http://pbs.twimg.com/media/Ee1a0DFXoAEr62O.jpg\n",
      "471656                                                      EMT Billy Birmingham dedicated his life to saving others. Abby &amp; I are keeping his family and @KCMOFireDept in our prayers, and thinking of all our first responders as they continue working tirelessly to keep Kansas City safe during this health crisis. https://twitter.com/KCMOFireDept/status/1249878515362795521 QT @KCMOFireDept The @KCMOFireDept regrets to announce the passing of EMT Billy Birmingham who lost his battle with COVID-19 this afternoon. The passing of Billy Birmingham saddens all KCFD employees deeply. @IAFFLocal42 #LODD http://pbs.twimg.com/media/EVh13vfX0AAxt3S.jpg\n",
      "532525                                                                                                                                                                                                                                                                                                                                                                                                                                                                                                                                             Daily do-nothing Mcconnell ⏰\\n\\nRepublicans don’t give a damn about you. http://pbs.twimg.com/media/Eg7RIikWAAA1pHk.jpg\n",
      "637697                                                                                                                                                                                                                                                                                                                                                                                                                                   Statistics don’t lie, and my latest op-ed for @TheHill doesn’t either! #DiversityMatters\\n\\nhttps://thehill.com/blogs/congress-blog/politics/467809-a-wake-up-call-for-corporate-america-statistics-dont-lie#bottom-story-socials\n",
      "574359                                                                                                                                                                                                                                                                                                                                                                                                             RT @mitchellreports Rep. Maloney: 'The status quo is broken, and too many people are getting hurt' https://www.msnbc.com/andrea-mitchell-reports/watch/rep-maloney-the-status-quo-is-broken-and-too-many-people-are-getting-hurt-73463877700 via @msnbc\n",
      "523608                                                                                                                                                                    I joined my colleagues to urge the President to FULLY use the Defense Production Act to coordinate #COVID19 supplies.\\n\\n“We write with deep concern about the lack of clear coordination to procure and prioritize necessary PPE, ventilators, testing kits...” https://energycommerce.house.gov/newsroom/press-releases/pallone-smith-thompson-urge-president-trump-to-coordinate-production-and http://pbs.twimg.com/media/EVLJHbSUcAA78i2.png http://pbs.twimg.com/media/EVLJIPRUEAE4hk2.png\n",
      "758078                                                                                                                                                                                                                                                                                                                                                                                                     American disengagement from the world stage offers other countries—friend and foe alike—opportunities to step in to fill the void, our columnist writes https://www.wsj.com/articles/as-u-s-footprint-shrinks-others-happily-fill-the-void-11546871012 via @WSJ\n",
      "171818                                                                                                                                                                                                                                                                                                                                                                                                                                                  RT @TheLastWord .@RepJoeNeguse (D-CO) joins @Lawrence to discuss the veracity of William Barr’s testimony to the House Judiciary Committee. https://trib.al/YRpwVkw http://pbs.twimg.com/media/EeEEa1EXYAIZF3i.jpg\n",
      "77253                                                                                                                                                                                                                                                                                                                                                                                                                                            I’m so excited to have @SpeakerPelosi join in me in my district for her #SpeakerintheHouse series. We will discuss our #ForThePeople agenda on how we can #ProtectOurCare. Watch here: https://facebook.com/eastlacollege\n",
      "712371                                                                                                                                                                                                                                                                                                                                                                   RT @RepMarciaFudge As the late Congressman Cummings often said, “Our children are the living messages we send to a future we will never see.”\\n\\nWith widening educational achievement gaps and growing child hunger, the question is to what kind of future will we send them?\\n\\nIt’s up to us.\n",
      "910576                                                                                                                                                                                                                                                                                                                                                                                In addition to being the largest public health crisis of our lifetime, this pandemic is proving to be the most significant economic challenge since the Great Depression. As the economy reopens, workers need to be empowered to navigate the substantial economic changes ahead...\n",
      "891425                                                                                                                                                                                                                                                                                                                                                                                                                                                                                                                                                                                                                      http://pbs.twimg.com/media/DzN8h7kW0AUkLJv.jpg\n",
      "Name: text, dtype: object\n"
     ]
    }
   ],
   "source": [
    "pd.set_option('display.max_colwidth', None)\n",
    "print(congress_tweets['text'].head(40))\n"
   ]
  },
  {
   "cell_type": "markdown",
   "metadata": {},
   "source": [
    "## Preprocessing"
   ]
  },
  {
   "cell_type": "markdown",
   "metadata": {},
   "source": [
    "The first step in working with text data is to preprocess it. Make sure you do the following:\n",
    "\n",
    "* Remove punctuation and stop words. The `rem_punc_stop()` function we used in lab is provided to you but you should feel free to edit it as necessary for other steps\n",
    "* Remove tokens that occur frequently in tweets, but may not be helpful for downstream classification. For instance, many tweets contain a flag for retweeting, or share a URL \n",
    "\n",
    "As you search online, you might run into solutions that rely on regular expressions. You are free to use these, but you should also be able to preprocess using the techniques we covered in lab. Specifically, we encourage you to use spaCy's token attributes and string methods to do some of this text preprocessing."
   ]
  },
  {
   "cell_type": "code",
   "execution_count": 18,
   "metadata": {},
   "outputs": [
    {
     "data": {
      "text/plain": [
       "908961    RT @RepKClark 22 million Americans filed for unemployment in the last 4 weeks. We need to find innovative solutions and to act fast. That's why I support the #PaycheckGuaranteeAct, which will cover 100% of wages for workers earning up to $100k and will ensure workers keep their #healthcare. https://twitter.com/politico/status/1250764214433611784 QT @politico BREAKING: 5.2 million Americans applied for unemployment last week. In four weeks alone, that’s more than 22 million people seeking jobless benefits. https://www.politico.com/news/2020/04/16/coronavirus-unemployment-claims-numbers-190026\n",
       "175615                                                                                                                                                                                                                                                                                                                                                                                                              Thanks to all who came out to tonight’s forum on the #GOPTaxLaw http://pbs.twimg.com/media/Dz0DJyKWsAAT3FZ.jpg http://pbs.twimg.com/media/Dz0DJyKXgAAyc6N.jpg http://pbs.twimg.com/media/Dz0DJyLWkAUzD4L.jpg\n",
       "64613                                                                                                                                                                                                                                                                                                                                                RT @RepFilemonVela #Dreamers &amp; TPS recipients are essential members of communities across the country, working &amp; living alongside us all. We won’t let them be torn away from our communities. #ProtectTheDream #HR6 http://pbs.twimg.com/media/D1d_bWEWoAEOLrz.png\n",
       "783091                                                                                                                                                                                                                                 RT @HispanicCaucus @JoaquinCastrotx @TheBlackCaucus @CAPAC @ExpressScripts @OptumRx @UnitedHealthGrp These CEOS represent 2 of the largest Pharmacy Benefit Managers (PBMs) in the US and are key players in the rising cost of insulin. We are hoping for a productive discussion as we all work to ensure that Americans have the #insulin they need at affordable prices. #Insulin4All\n",
       "553399                                                                                                                                                                                                                                                                                             Thank you to @NYGovCuomo for being here today in the face of yet another extreme weather system. The close collaboration we see among all levels of government is exactly what need in times like need to ensure our residents are safe and prepared for tomorrow’s windstorm. http://pbs.twimg.com/media/D0HETHJWkAEM1IZ.jpg\n",
       "                                                                                                                                                                                                                                                                                                                   ...                                                                                                                                                                                                                                                                                                          \n",
       "136741                                                                                                                                                                                                                                                                                                                                                                                                                                                                                                                    RT @tomfoster1201 @WillieGeist Cause of death revealed. http://pbs.twimg.com/media/EeAfVzFWkAEcOnn.jpg\n",
       "217330                                                                          Today, Miami lost a titan of public service. Maurice Ferré was an enterprising businessman and politician. He was a proud son of Puerto Rico whose leadership transformed Miami from a sleepy Southern city into the booming global metropolis it is today. 1/2 https://twitter.com/MiamiHerald/status/1174739938396508163 QT @MiamiHerald BREAKING: Maurice A. Ferré, the politician and businessman from an aristocratic Puerto Rican family who is widely regarded as the father of modern-day Miami, has died at 84. https://trib.al/PMCSOYj\n",
       "652039                                                                                                                                                                                                                            It was my honor to present these local war heroes with the Congressional Silver Medal for their bravery fighting on our behalf in Vietnam.\\n\\nMay God bless them and their families. We are forever indebted to our troops for their service. http://pbs.twimg.com/media/Ek87rhkXIAYkFeN.jpg https://video.twimg.com/amplify_video/1319338444221566981/vid/480x270/2-JdSm5lRcW7Wr_P.mp4?tag=13\n",
       "548583                                                                                                                                                                                                                                                                          This is a really important step at PNM. We can rewire our nation to decarbonize the economy and create quality careers in the building trades. \\n\\nAnd bring on the electric F-150 already! https://www.santafenewmexican.com/news/local_news/pnm-wants-to-make-electric-car-ownership-cheaper/article_24bfd0ca-44ae-11eb-a1c7-17a41bdf9c8b.html\n",
       "335003                                                                                                                                                                                                                         Kicked off the day in Sac County where I heard from folks w/ Hancock Concrete Products about the essential work they‘re doing during #COVID19. These Iowans are critical to our state and nation’s infrastructure. Thx for all you do! #99CountyTour http://pbs.twimg.com/media/EeRMGmwWsAAVt1j.jpg http://pbs.twimg.com/media/EeRMGmuXYAEE6D3.jpg http://pbs.twimg.com/media/EeRMGmyX0AA-m4H.jpg\n",
       "Name: text, Length: 1000, dtype: object"
      ]
     },
     "execution_count": 18,
     "metadata": {},
     "output_type": "execute_result"
    }
   ],
   "source": [
    "text = congress_tweets['text']\n",
    "text"
   ]
  },
  {
   "cell_type": "code",
   "execution_count": 24,
   "metadata": {},
   "outputs": [],
   "source": [
    "def rem_punc_stop(text):\n",
    "    \n",
    "    custom_stop_words = {\"RT\", \"@\"}  # Specify additional stop words \n",
    "    stop_words = STOP_WORDS.union(custom_stop_words)  \n",
    "\n",
    "    punc = set(punctuation)\n",
    "    \n",
    "    punc_free = \"\".join([ch for ch in text if ch not in punc])\n",
    "    \n",
    "    doc = nlp(punc_free)\n",
    "    \n",
    "    spacy_words = [token.text for token in doc]\n",
    "    \n",
    "    spacy_words = [word for word in spacy_words if not word.startswith('http')]\n",
    "    \n",
    "    no_punc = [word for word in spacy_words if word not in stop_words]\n",
    "    \n",
    "    return no_punc"
   ]
  },
  {
   "cell_type": "code",
   "execution_count": 25,
   "metadata": {},
   "outputs": [
    {
     "data": {
      "text/plain": [
       "['@RepKClark', '22', 'million', 'Americans', 'filed']"
      ]
     },
     "execution_count": 25,
     "metadata": {},
     "output_type": "execute_result"
    }
   ],
   "source": [
    "# initalize an empty list\n",
    "tokens_reduced = []\n",
    "# apply our new function to our text object from above\n",
    "tokens_reduced = rem_punc_stop(text)\n",
    "\n",
    "# view the first 5 tokens\n",
    "tokens_reduced[0:5]"
   ]
  },
  {
   "cell_type": "markdown",
   "metadata": {},
   "source": [
    "## Exploratory Data Analysis"
   ]
  },
  {
   "cell_type": "markdown",
   "metadata": {},
   "source": [
    "Use two of the techniques we covered in lab (or other techniques outside of lab!) to explore the text of the tweets. You should construct these visualizations with an eye toward the eventual classification tasks: (1) predicting the legislator's political party based on the text of their tweet, and (2) predicting whether the legislator is a Senator or Representative. As a reminder, in lab we covered word frequencies, word clouds, word/character counts, scattertext, and topic modeling as possible exploration tools. "
   ]
  },
  {
   "cell_type": "markdown",
   "metadata": {},
   "source": [
    "### EDA 1"
   ]
  },
  {
   "cell_type": "code",
   "execution_count": null,
   "metadata": {},
   "outputs": [],
   "source": [
    "... "
   ]
  },
  {
   "cell_type": "markdown",
   "metadata": {},
   "source": [
    "### EDA 2"
   ]
  },
  {
   "cell_type": "code",
   "execution_count": null,
   "metadata": {},
   "outputs": [],
   "source": [
    "..."
   ]
  },
  {
   "cell_type": "markdown",
   "metadata": {},
   "source": [
    "## Sentiment Analysis"
   ]
  },
  {
   "cell_type": "markdown",
   "metadata": {},
   "source": [
    "Next, let's analyze the sentiments contained within the tweets. You may use TextBlob or another library for these tasks. Do the following:\n",
    "\n",
    "* Choose two legislators, one who you think will be more liberal and one who you think will be more conservative, and analyze their sentiment and/or subjectivity scores per tweet. For instance, you might do two scatterplots that plot each legislator's sentiment against their subjectivity, or two density plots for their sentiments. Do the scores match what you thought?\n",
    "* Plot two more visualizations like the ones you chose in the first part, but do them to compare (1) Democrats v. Republicans and (2) Senators v. Representatives \n",
    "\n",
    "`TextBlob` has already been imported in the top cell."
   ]
  },
  {
   "cell_type": "code",
   "execution_count": null,
   "metadata": {},
   "outputs": [],
   "source": [
    "..."
   ]
  },
  {
   "cell_type": "markdown",
   "metadata": {},
   "source": [
    "## Featurization"
   ]
  },
  {
   "cell_type": "markdown",
   "metadata": {},
   "source": [
    "Before going to classification, explore different featurization techniques. Create three dataframes or arrays to represent your text features, specifically:\n",
    "\n",
    "* Features engineered from your previous analysis. For example, word counts, sentiment scores, topic model etc.\n",
    "* A term frequency-inverse document frequency matrix. \n",
    "* An embedding-based featurization (like a document averaged word2vec)\n",
    "\n",
    "In the next section, you will experiment with each of these featurization techniques to see which one produces the best classifications."
   ]
  },
  {
   "cell_type": "code",
   "execution_count": null,
   "metadata": {},
   "outputs": [],
   "source": [
    "..."
   ]
  },
  {
   "cell_type": "markdown",
   "metadata": {},
   "source": [
    "### Engineered Text Features"
   ]
  },
  {
   "cell_type": "code",
   "execution_count": null,
   "metadata": {},
   "outputs": [],
   "source": [
    "# Engineered Features\n",
    "..."
   ]
  },
  {
   "cell_type": "markdown",
   "metadata": {},
   "source": [
    "### Bag-of-words or Tf-idf"
   ]
  },
  {
   "cell_type": "code",
   "execution_count": null,
   "metadata": {},
   "outputs": [],
   "source": [
    "# Frequency Based featurization\n",
    "..."
   ]
  },
  {
   "cell_type": "markdown",
   "metadata": {},
   "source": [
    "### Word Embedding"
   ]
  },
  {
   "cell_type": "code",
   "execution_count": null,
   "metadata": {},
   "outputs": [],
   "source": [
    "# Load Word2Vec model from Google; OPTIONAL depending on your computational resources (the file is ~1 GB)\n",
    "# Also note that this file path assumes that the word vectors are underneath 'data'; you may wish to point to the CSS course repo and change the path\n",
    "# or move the vector file to the project repo \n",
    "\n",
    "#model = gensim.models.KeyedVectors.load_word2vec_format('data/GoogleNews-vectors-negative300.bin.gz', binary = True) "
   ]
  },
  {
   "cell_type": "code",
   "execution_count": null,
   "metadata": {},
   "outputs": [],
   "source": [
    "# Function to average word embeddings for a document; use examples from lab to apply this function. You can use also other techniques such as PCA and doc2vec instead.\n",
    "def document_vector(word2vec_model, doc):\n",
    "    doc = [word for word in doc if word in model.vocab]\n",
    "    return np.mean(model[doc], axis=0)"
   ]
  },
  {
   "cell_type": "code",
   "execution_count": null,
   "metadata": {},
   "outputs": [],
   "source": [
    "# embedding based featurization\n",
    "..."
   ]
  },
  {
   "cell_type": "markdown",
   "metadata": {},
   "source": [
    "## Classification"
   ]
  },
  {
   "cell_type": "markdown",
   "metadata": {},
   "source": [
    "Either use cross-validation or partition your data with training/validation/test sets for this section. Do the following:\n",
    "\n",
    "* Choose a supervised learning algorithm such as logistic regression, random forest etc. \n",
    "* Train six models. For each of the three dataframes you created in the featurization part, train one model to predict whether the author of the tweet is a Democrat or Republican, and a second model to predict whether the author is a Senator or Representative.\n",
    "* Report the accuracy and other relevant metrics for each of these six models.\n",
    "* Choose the featurization technique associated with your best model. Combine those text features with non-text features. Train two more models: (1) A supervised learning algorithm that uses just the non-text features and (2) a supervised learning algorithm that combines text and non-text features. Report accuracy and other relevant metrics. \n",
    "\n",
    "If time permits, you are encouraged to use hyperparameter tuning or AutoML techniques like TPOT, but are not explicitly required to do so."
   ]
  },
  {
   "cell_type": "markdown",
   "metadata": {},
   "source": [
    "### Train Six Models with Just Text"
   ]
  },
  {
   "cell_type": "code",
   "execution_count": null,
   "metadata": {},
   "outputs": [],
   "source": [
    "# six models ([engineered features, frequency-based, embedding] * [democrat/republican, senator/representative])\n",
    "..."
   ]
  },
  {
   "cell_type": "markdown",
   "metadata": {},
   "source": [
    "### Two Combined Models"
   ]
  },
  {
   "cell_type": "code",
   "execution_count": null,
   "metadata": {},
   "outputs": [],
   "source": [
    "# two models ([best text features + non-text features] * [democrat/republican, senator/representative])\n",
    "..."
   ]
  },
  {
   "cell_type": "markdown",
   "metadata": {},
   "source": [
    "## Discussion Questions"
   ]
  },
  {
   "cell_type": "markdown",
   "metadata": {},
   "source": [
    "1. Why do standard preprocessing techniques need to be further customized to a particular corpus?"
   ]
  },
  {
   "cell_type": "markdown",
   "metadata": {},
   "source": [
    "**YOUR ANSWER HERE** ..."
   ]
  },
  {
   "cell_type": "markdown",
   "metadata": {},
   "source": [
    "2. Did you find evidence for the idea that Democrats and Republicans have different sentiments in their tweets? What about Senators and Representatives?"
   ]
  },
  {
   "cell_type": "markdown",
   "metadata": {},
   "source": [
    "**YOUR ANSWER HERE** ..."
   ]
  },
  {
   "cell_type": "markdown",
   "metadata": {},
   "source": [
    "3. Why is validating your exploratory and unsupervised learning approaches with a supervised learning algorithm valuable?"
   ]
  },
  {
   "cell_type": "markdown",
   "metadata": {},
   "source": [
    "**YOUR ANSWER HERE** ..."
   ]
  },
  {
   "cell_type": "markdown",
   "metadata": {},
   "source": [
    "4. Did text only, non-text only, or text and non-text features together perform the best? What is the intuition behind combining text and non-text features in a supervised learning algorithm?"
   ]
  },
  {
   "cell_type": "markdown",
   "metadata": {},
   "source": [
    "**YOUR ANSWER HERE** ..."
   ]
  }
 ],
 "metadata": {
  "kernelspec": {
   "display_name": "Python 3 (ipykernel)",
   "language": "python",
   "name": "python3"
  },
  "language_info": {
   "codemirror_mode": {
    "name": "ipython",
    "version": 3
   },
   "file_extension": ".py",
   "mimetype": "text/x-python",
   "name": "python",
   "nbconvert_exporter": "python",
   "pygments_lexer": "ipython3",
   "version": "3.11.4"
  }
 },
 "nbformat": 4,
 "nbformat_minor": 4
}
